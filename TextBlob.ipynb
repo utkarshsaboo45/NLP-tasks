{
 "cells": [
  {
   "cell_type": "code",
   "execution_count": 1,
   "metadata": {},
   "outputs": [],
   "source": [
    "from textblob import TextBlob"
   ]
  },
  {
   "cell_type": "code",
   "execution_count": 2,
   "metadata": {},
   "outputs": [],
   "source": [
    "tb = TextBlob(\"Nice to meet you.\\nAre you happy to meet me?\")\n",
    "tb2 = TextBlob(\"We are discussing some random words now. Apples, berries, Brothers-in-law, children, fish, geese, mice, octopuses, passers-by, whatsapp and what not.\")"
   ]
  },
  {
   "cell_type": "code",
   "execution_count": 3,
   "metadata": {},
   "outputs": [
    {
     "data": {
      "text/plain": [
       "[Sentence(\"Nice to meet you.\"), Sentence(\"Are you happy to meet me?\")]"
      ]
     },
     "execution_count": 3,
     "metadata": {},
     "output_type": "execute_result"
    }
   ],
   "source": [
    "tb.sentences"
   ]
  },
  {
   "cell_type": "code",
   "execution_count": 4,
   "metadata": {},
   "outputs": [
    {
     "data": {
      "text/plain": [
       "WordList(['Nice', 'to', 'meet', 'you', 'Are', 'you', 'happy', 'to', 'meet', 'me'])"
      ]
     },
     "execution_count": 4,
     "metadata": {},
     "output_type": "execute_result"
    }
   ],
   "source": [
    "tb.words"
   ]
  },
  {
   "cell_type": "code",
   "execution_count": 5,
   "metadata": {},
   "outputs": [
    {
     "data": {
      "text/plain": [
       "WordList(['random words', 'apples', 'brothers-in-law'])"
      ]
     },
     "execution_count": 5,
     "metadata": {},
     "output_type": "execute_result"
    }
   ],
   "source": [
    "tb2.noun_phrases"
   ]
  },
  {
   "cell_type": "code",
   "execution_count": 6,
   "metadata": {},
   "outputs": [
    {
     "data": {
      "text/plain": [
       "[('Nice', 'NNP'),\n",
       " ('to', 'TO'),\n",
       " ('meet', 'VB'),\n",
       " ('you', 'PRP'),\n",
       " ('Are', 'NNP'),\n",
       " ('you', 'PRP'),\n",
       " ('happy', 'JJ'),\n",
       " ('to', 'TO'),\n",
       " ('meet', 'VB'),\n",
       " ('me', 'PRP')]"
      ]
     },
     "execution_count": 6,
     "metadata": {},
     "output_type": "execute_result"
    }
   ],
   "source": [
    "tb.tags"
   ]
  },
  {
   "cell_type": "code",
   "execution_count": 7,
   "metadata": {},
   "outputs": [
    {
     "data": {
      "text/plain": [
       "WordList(['We', 'are', 'discussing', 'some', 'random', 'word', 'now', 'Apple', 'berry', 'Brother-in-law', 'child', 'fish', 'goose', 'mouse', 'octopus', 'passer-by', 'whatsapp', 'and', 'what', 'not'])"
      ]
     },
     "execution_count": 7,
     "metadata": {},
     "output_type": "execute_result"
    }
   ],
   "source": [
    "tb2.words.singularize()"
   ]
  },
  {
   "cell_type": "code",
   "execution_count": 8,
   "metadata": {},
   "outputs": [
    {
     "data": {
      "text/plain": [
       "WordList(['Wes', 'ares', 'discussings', 'somes', 'randoms', 'wordss', 'nows', 'Appless', 'berriess', 'Brotherss-in-law', 'childrens', 'fish', 'geeses', 'mices', 'octopusess', 'passerss-by', 'whatsapps', 'ands', 'whats', 'nots'])"
      ]
     },
     "execution_count": 8,
     "metadata": {},
     "output_type": "execute_result"
    }
   ],
   "source": [
    "tb2.words.pluralize()"
   ]
  },
  {
   "cell_type": "code",
   "execution_count": 9,
   "metadata": {},
   "outputs": [
    {
     "data": {
      "text/plain": [
       "[WordList(['Nice', 'to', 'meet']),\n",
       " WordList(['to', 'meet', 'you']),\n",
       " WordList(['meet', 'you', 'Are']),\n",
       " WordList(['you', 'Are', 'you']),\n",
       " WordList(['Are', 'you', 'happy']),\n",
       " WordList(['you', 'happy', 'to']),\n",
       " WordList(['happy', 'to', 'meet']),\n",
       " WordList(['to', 'meet', 'me'])]"
      ]
     },
     "execution_count": 9,
     "metadata": {},
     "output_type": "execute_result"
    }
   ],
   "source": [
    "tb.ngrams()"
   ]
  },
  {
   "cell_type": "code",
   "execution_count": 10,
   "metadata": {},
   "outputs": [
    {
     "data": {
      "text/plain": [
       "[WordList(['We', 'are', 'discussing']),\n",
       " WordList(['are', 'discussing', 'some']),\n",
       " WordList(['discussing', 'some', 'random']),\n",
       " WordList(['some', 'random', 'words']),\n",
       " WordList(['random', 'words', 'now']),\n",
       " WordList(['words', 'now', 'Apples']),\n",
       " WordList(['now', 'Apples', 'berries']),\n",
       " WordList(['Apples', 'berries', 'Brothers-in-law']),\n",
       " WordList(['berries', 'Brothers-in-law', 'children']),\n",
       " WordList(['Brothers-in-law', 'children', 'fish']),\n",
       " WordList(['children', 'fish', 'geese']),\n",
       " WordList(['fish', 'geese', 'mice']),\n",
       " WordList(['geese', 'mice', 'octopuses']),\n",
       " WordList(['mice', 'octopuses', 'passers-by']),\n",
       " WordList(['octopuses', 'passers-by', 'whatsapp']),\n",
       " WordList(['passers-by', 'whatsapp', 'and']),\n",
       " WordList(['whatsapp', 'and', 'what']),\n",
       " WordList(['and', 'what', 'not'])]"
      ]
     },
     "execution_count": 10,
     "metadata": {},
     "output_type": "execute_result"
    }
   ],
   "source": [
    "tb2.ngrams()"
   ]
  },
  {
   "cell_type": "code",
   "execution_count": 11,
   "metadata": {},
   "outputs": [
    {
     "data": {
      "text/plain": [
       "Sentiment(polarity=0.7, subjectivity=1.0)"
      ]
     },
     "execution_count": 11,
     "metadata": {},
     "output_type": "execute_result"
    }
   ],
   "source": [
    "tb.sentiment"
   ]
  },
  {
   "cell_type": "code",
   "execution_count": 12,
   "metadata": {},
   "outputs": [
    {
     "data": {
      "text/plain": [
       "Sentiment(polarity=-0.5, subjectivity=0.5)"
      ]
     },
     "execution_count": 12,
     "metadata": {},
     "output_type": "execute_result"
    }
   ],
   "source": [
    "tb2.sentiment"
   ]
  },
  {
   "cell_type": "code",
   "execution_count": 13,
   "metadata": {},
   "outputs": [],
   "source": [
    "tb3 = TextBlob(\"Olny one precnet of you can raed tihs snetnece porpelry.\")"
   ]
  },
  {
   "cell_type": "code",
   "execution_count": 14,
   "metadata": {},
   "outputs": [
    {
     "data": {
      "text/plain": [
       "TextBlob(\"Only one present of you can red this sentence properly.\")"
      ]
     },
     "execution_count": 14,
     "metadata": {},
     "output_type": "execute_result"
    }
   ],
   "source": [
    "tb3.correct()"
   ]
  },
  {
   "cell_type": "code",
   "execution_count": 15,
   "metadata": {},
   "outputs": [],
   "source": [
    "tb4 = TextBlob(\"This sentnce hs a lt of speling erors\")"
   ]
  },
  {
   "cell_type": "code",
   "execution_count": 16,
   "metadata": {},
   "outputs": [
    {
     "data": {
      "text/plain": [
       "TextBlob(\"His sentence he a it of spelling errors\")"
      ]
     },
     "execution_count": 16,
     "metadata": {},
     "output_type": "execute_result"
    }
   ],
   "source": [
    "tb4.correct()"
   ]
  },
  {
   "cell_type": "code",
   "execution_count": 17,
   "metadata": {},
   "outputs": [],
   "source": [
    "tb5 = TextBlob(\"Oky, tis is my lst try, I hpe it deos is prefectly\")"
   ]
  },
  {
   "cell_type": "code",
   "execution_count": 18,
   "metadata": {},
   "outputs": [
    {
     "data": {
      "text/plain": [
       "TextBlob(\"Sky, tis is my last try, I he it does is perfectly\")"
      ]
     },
     "execution_count": 18,
     "metadata": {},
     "output_type": "execute_result"
    }
   ],
   "source": [
    "tb5.correct()"
   ]
  },
  {
   "cell_type": "code",
   "execution_count": 19,
   "metadata": {},
   "outputs": [],
   "source": [
    "tb6 = TextBlob(\"ごめんなさい\")"
   ]
  },
  {
   "cell_type": "code",
   "execution_count": 20,
   "metadata": {},
   "outputs": [
    {
     "data": {
      "text/plain": [
       "'ja'"
      ]
     },
     "execution_count": 20,
     "metadata": {},
     "output_type": "execute_result"
    }
   ],
   "source": [
    "tb6.detect_language()"
   ]
  },
  {
   "cell_type": "code",
   "execution_count": 21,
   "metadata": {},
   "outputs": [
    {
     "data": {
      "text/plain": [
       "TextBlob(\"I'm sorry\")"
      ]
     },
     "execution_count": 21,
     "metadata": {},
     "output_type": "execute_result"
    }
   ],
   "source": [
    "tb6.translate(to = \"en\")"
   ]
  },
  {
   "cell_type": "code",
   "execution_count": 22,
   "metadata": {},
   "outputs": [],
   "source": [
    "tb7 = TextBlob(\"Bonjour\")"
   ]
  },
  {
   "cell_type": "code",
   "execution_count": 23,
   "metadata": {},
   "outputs": [
    {
     "data": {
      "text/plain": [
       "'fr'"
      ]
     },
     "execution_count": 23,
     "metadata": {},
     "output_type": "execute_result"
    }
   ],
   "source": [
    "tb7.detect_language()"
   ]
  },
  {
   "cell_type": "code",
   "execution_count": 24,
   "metadata": {},
   "outputs": [
    {
     "data": {
      "text/plain": [
       "TextBlob(\"Hello\")"
      ]
     },
     "execution_count": 24,
     "metadata": {},
     "output_type": "execute_result"
    }
   ],
   "source": [
    "tb7.translate(from_lang = \"fr\", to = \"en\")"
   ]
  },
  {
   "cell_type": "code",
   "execution_count": 25,
   "metadata": {},
   "outputs": [],
   "source": [
    "from textblob import classifiers"
   ]
  },
  {
   "cell_type": "code",
   "execution_count": 26,
   "metadata": {},
   "outputs": [],
   "source": [
    "training = [\n",
    "('Tom Holland is a terrible spiderman.','neg'),\n",
    "('a terrible Javert (Russell Crowe) ruined Les Miserables for me...','neg'),\n",
    "('The Dark Knight Rises is the greatest superhero movie ever!','pos'),\n",
    "('Fantastic Four should have never been made.','neg'),\n",
    "('Wes Anderson is my favorite director!','pos'),\n",
    "('Captain America 2 is pretty awesome.','pos'),\n",
    "('Let\\s pretend \"Batman and Robin\" never happened..','neg'),\n",
    "]\n",
    "testing = [\n",
    "('Superman was never an interesting character.','pos'),\n",
    "('Fantastic Mr Fox is an awesome film!','pos'),\n",
    "('Dragonball Evolution is simply terrible!!','neg')\n",
    "]"
   ]
  },
  {
   "cell_type": "code",
   "execution_count": 27,
   "metadata": {},
   "outputs": [],
   "source": [
    "classifier = classifiers.NaiveBayesClassifier(training)"
   ]
  },
  {
   "cell_type": "code",
   "execution_count": 28,
   "metadata": {},
   "outputs": [
    {
     "name": "stdout",
     "output_type": "stream",
     "text": [
      "Most Informative Features\n",
      "            contains(is) = True              pos : neg    =      2.9 : 1.0\n",
      "      contains(terrible) = False             pos : neg    =      1.8 : 1.0\n",
      "         contains(never) = False             pos : neg    =      1.8 : 1.0\n",
      "             contains(a) = False             pos : neg    =      1.8 : 1.0\n",
      "        contains(pretty) = False             neg : pos    =      1.4 : 1.0\n",
      "      contains(greatest) = False             neg : pos    =      1.4 : 1.0\n",
      "           contains(Wes) = False             neg : pos    =      1.4 : 1.0\n",
      "      contains(director) = False             neg : pos    =      1.4 : 1.0\n",
      "            contains(my) = False             neg : pos    =      1.4 : 1.0\n",
      "         contains(movie) = False             neg : pos    =      1.4 : 1.0\n"
     ]
    }
   ],
   "source": [
    "classifier.show_informative_features(10)"
   ]
  },
  {
   "cell_type": "code",
   "execution_count": 29,
   "metadata": {},
   "outputs": [
    {
     "name": "stdout",
     "output_type": "stream",
     "text": [
      "0.6666666666666666\n"
     ]
    }
   ],
   "source": [
    "print(classifier.accuracy(testing))"
   ]
  },
  {
   "cell_type": "code",
   "execution_count": 30,
   "metadata": {},
   "outputs": [
    {
     "name": "stdout",
     "output_type": "stream",
     "text": [
      "pos\n"
     ]
    }
   ],
   "source": [
    "tb8 = TextBlob('My Favourite anime is one piece', classifier = classifier)\n",
    "print(tb8.classify())"
   ]
  }
 ],
 "metadata": {
  "kernelspec": {
   "display_name": "Python 3",
   "language": "python",
   "name": "python3"
  },
  "language_info": {
   "codemirror_mode": {
    "name": "ipython",
    "version": 3
   },
   "file_extension": ".py",
   "mimetype": "text/x-python",
   "name": "python",
   "nbconvert_exporter": "python",
   "pygments_lexer": "ipython3",
   "version": "3.6.5"
  }
 },
 "nbformat": 4,
 "nbformat_minor": 2
}
